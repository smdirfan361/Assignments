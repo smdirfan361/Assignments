{
 "cells": [
  {
   "cell_type": "raw",
   "id": "07893aaf",
   "metadata": {},
   "source": [
    "1) In the given quetion Expression are *,-,\\,+ and Value are 'hello',,-86.8/,6"
   ]
  },
  {
   "cell_type": "raw",
   "id": "fb9076c5",
   "metadata": {},
   "source": [
    "2) Difference between string and variable? \n",
    " \n",
    "ans) String are the Datayes shich represent a set of character value ,where as Variables        are the place holders in lamon way we can say variables are the containers which          store values of different datatype."
   ]
  },
  {
   "cell_type": "raw",
   "id": "5878723b",
   "metadata": {},
   "source": [
    "3)Describe three different Datatypes?\n",
    "ans) a)Integer-Its is represented by int its descricethe numeric values like                      1,2,3,4,5,5etc.\n",
    "     b)String -It is represented by str it is a arry of charaters it is alway written            inside double or single quotes example \"hello\",'hi' etc.\n",
    "     c)Boolean - It is represented by Bool It  represent the True or False values only/"
   ]
  },
  {
   "cell_type": "raw",
   "id": "26799db5",
   "metadata": {},
   "source": [
    "4)What is an expression made up of ? What do all expressions do?\n",
    "\n",
    "ans) Expression are made up of variables and operaters Operatores withe syntasx of the          language.\n",
    "     All the expressions performs the tasks which are mention in the expression and gives      desired output to the given expression \n",
    "     Example: a=1,b=2,c=a+b it is also a siple expression which gives us the value 3\n",
    " "
   ]
  },
  {
   "cell_type": "raw",
   "id": "744b701c",
   "metadata": {},
   "source": [
    "5)The assiginment statement like spam=10.What is difference between an expression and a     statement?\n",
    "\n",
    "ans) Expression are the combination of values, variable soperatores which us the results        but where as the Statement are the conditions which check the Condition are true or        False there can be other use also with statements but for expression it5s mandatory        to provide result"
   ]
  },
  {
   "cell_type": "raw",
   "id": "9c27bf76",
   "metadata": {},
   "source": [
    "6)After running the following code what  does the following variable bacon contain?\n",
    "bacoon = 22\n",
    "bacon+=1\n",
    "Ans)after running the codet it the variable bacon will containt the vale 23"
   ]
  },
  {
   "cell_type": "raw",
   "id": "3c5ab602",
   "metadata": {},
   "source": [
    "7)What should be the values of the following two terms be?\n",
    "'spam'+'spamspam'\n",
    "'spam'*3\n",
    "\n",
    "ans) Both the terms mention above gives the same value that is 'spamspamspam'\n",
    "     in first expression it is concating two strings while in secound it is multiplying        string\n"
   ]
  },
  {
   "cell_type": "raw",
   "id": "bd754ae5",
   "metadata": {},
   "source": [
    "8)Why is eggs a valid variable name while 100 is invalid ?\n",
    "\n",
    "ans)There are some condition to declare a variable they are a variable name should not     \n",
    "    start with a number or a special charater like $%#$ except  underscore(-) and it can       be  started all the letter either lower or upper case because of this reason the above     mention eggs variable is valid and  100 variable is invalid"
   ]
  },
  {
   "cell_type": "raw",
   "id": "a50d4f18",
   "metadata": {},
   "source": [
    "9)What are the three functions can be used to get the integer,floating-point number, or string version of the value ?\n",
    "\n",
    "ans) To get the version of the vales we can use int(),float(),str() functions "
   ]
  },
  {
   "cell_type": "raw",
   "id": "eb3d3341",
   "metadata": {},
   "source": [
    "Why does this expression  causes an error? How can you fix it ?\n",
    "'I have eaten'+99+'burritos'\n",
    "\n",
    "ans)The above exopression  strings can not be concate  with the integer valuse so it gives an error  to fix it we can youe type conversion  where it converect integer value to string or we can just simply add single or double qoutes to the integer value then it will be treated as sting value."
   ]
  },
  {
   "cell_type": "code",
   "execution_count": 6,
   "id": "88597332",
   "metadata": {},
   "outputs": [
    {
     "ename": "TypeError",
     "evalue": "can only concatenate str (not \"int\") to str",
     "output_type": "error",
     "traceback": [
      "\u001b[0;31m---------------------------------------------------------------------------\u001b[0m",
      "\u001b[0;31mTypeError\u001b[0m                                 Traceback (most recent call last)",
      "\u001b[0;32m/tmp/ipykernel_2958/2630289103.py\u001b[0m in \u001b[0;36m<module>\u001b[0;34m\u001b[0m\n\u001b[0;32m----> 1\u001b[0;31m \u001b[0;34m'I have eaten'\u001b[0m\u001b[0;34m+\u001b[0m\u001b[0;36m99\u001b[0m\u001b[0;34m+\u001b[0m\u001b[0;34m'burritos'\u001b[0m\u001b[0;34m\u001b[0m\u001b[0;34m\u001b[0m\u001b[0m\n\u001b[0m",
      "\u001b[0;31mTypeError\u001b[0m: can only concatenate str (not \"int\") to str"
     ]
    }
   ],
   "source": [
    "'I have eaten'+99+'burritos'"
   ]
  },
  {
   "cell_type": "code",
   "execution_count": 4,
   "id": "21f78130",
   "metadata": {},
   "outputs": [
    {
     "data": {
      "text/plain": [
       "'I have eaten99burritos'"
      ]
     },
     "execution_count": 4,
     "metadata": {},
     "output_type": "execute_result"
    }
   ],
   "source": [
    "'I have eaten'+str(99)+'burritos'"
   ]
  },
  {
   "cell_type": "code",
   "execution_count": 5,
   "id": "bef33eed",
   "metadata": {},
   "outputs": [
    {
     "data": {
      "text/plain": [
       "'I have eaten 99 burritos'"
      ]
     },
     "execution_count": 5,
     "metadata": {},
     "output_type": "execute_result"
    }
   ],
   "source": [
    "'I have eaten '+'99'+' burritos'"
   ]
  }
 ],
 "metadata": {
  "kernelspec": {
   "display_name": "Python 3 (ipykernel)",
   "language": "python",
   "name": "python3"
  },
  "language_info": {
   "codemirror_mode": {
    "name": "ipython",
    "version": 3
   },
   "file_extension": ".py",
   "mimetype": "text/x-python",
   "name": "python",
   "nbconvert_exporter": "python",
   "pygments_lexer": "ipython3",
   "version": "3.9.7"
  }
 },
 "nbformat": 4,
 "nbformat_minor": 5
}
